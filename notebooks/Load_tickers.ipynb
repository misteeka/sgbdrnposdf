{
 "cells": [
  {
   "cell_type": "code",
   "execution_count": 1,
   "id": "3bcb70b9",
   "metadata": {},
   "outputs": [],
   "source": [
    "import pandas as pd\n",
    "from config.reader import *\n",
    "from moex.moex import *\n",
    "from postgres.postgres import *"
   ]
  },
  {
   "cell_type": "code",
   "execution_count": 2,
   "id": "d1f3a2c5",
   "metadata": {},
   "outputs": [],
   "source": [
    "cfg = read_config('config.json')\n",
    "tickers = cfg.get('tickers')"
   ]
  },
  {
   "cell_type": "code",
   "execution_count": 3,
   "id": "74f8e41c",
   "metadata": {},
   "outputs": [],
   "source": [
    "conn = connect(cfg)"
   ]
  },
  {
   "cell_type": "code",
   "execution_count": 4,
   "id": "ea74115f",
   "metadata": {},
   "outputs": [],
   "source": [
    "for ticker in tickers:\n",
    "    df = get_historical(ticker)\n",
    "    insert_ticker_history(conn, ticker, df)"
   ]
  },
  {
   "cell_type": "code",
   "execution_count": 6,
   "id": "869508e5",
   "metadata": {},
   "outputs": [],
   "source": [
    "conn.close()"
   ]
  },
  {
   "cell_type": "code",
   "execution_count": null,
   "id": "47a0e91b",
   "metadata": {},
   "outputs": [],
   "source": []
  }
 ],
 "metadata": {
  "kernelspec": {
   "display_name": "Python 3 (ipykernel)",
   "language": "python",
   "name": "python3"
  },
  "language_info": {
   "codemirror_mode": {
    "name": "ipython",
    "version": 3
   },
   "file_extension": ".py",
   "mimetype": "text/x-python",
   "name": "python",
   "nbconvert_exporter": "python",
   "pygments_lexer": "ipython3",
   "version": "3.9.13"
  }
 },
 "nbformat": 4,
 "nbformat_minor": 5
}
