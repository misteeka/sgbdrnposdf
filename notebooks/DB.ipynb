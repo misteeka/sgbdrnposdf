{
 "cells": [
  {
   "cell_type": "code",
   "execution_count": 1,
   "id": "f6126cc0",
   "metadata": {},
   "outputs": [],
   "source": [
    "from postgres.postgres import *\n",
    "from config.reader import *\n",
    "from moex.moex import get_historical, cut_historical\n",
    "import pandas as pd"
   ]
  },
  {
   "cell_type": "code",
   "execution_count": 2,
   "id": "572755c8",
   "metadata": {},
   "outputs": [],
   "source": [
    "cfg = read_config('config.json')"
   ]
  },
  {
   "cell_type": "code",
   "execution_count": 37,
   "id": "4c93129b",
   "metadata": {},
   "outputs": [
    {
     "data": {
      "text/html": [
       "<div>\n",
       "<style scoped>\n",
       "    .dataframe tbody tr th:only-of-type {\n",
       "        vertical-align: middle;\n",
       "    }\n",
       "\n",
       "    .dataframe tbody tr th {\n",
       "        vertical-align: top;\n",
       "    }\n",
       "\n",
       "    .dataframe thead th {\n",
       "        text-align: right;\n",
       "    }\n",
       "</style>\n",
       "<table border=\"1\" class=\"dataframe\">\n",
       "  <thead>\n",
       "    <tr style=\"text-align: right;\">\n",
       "      <th></th>\n",
       "      <th>TRADEDATE</th>\n",
       "      <th>CLOSE</th>\n",
       "      <th>VOLUME</th>\n",
       "      <th>VALUE</th>\n",
       "      <th>unix_time</th>\n",
       "    </tr>\n",
       "  </thead>\n",
       "  <tbody>\n",
       "    <tr>\n",
       "      <th>2508</th>\n",
       "      <td>2023-03-07</td>\n",
       "      <td>174.01</td>\n",
       "      <td>55287380</td>\n",
       "      <td>9.555925e+09</td>\n",
       "      <td>1.678147e+09</td>\n",
       "    </tr>\n",
       "    <tr>\n",
       "      <th>2509</th>\n",
       "      <td>2023-03-09</td>\n",
       "      <td>172.55</td>\n",
       "      <td>80393110</td>\n",
       "      <td>1.394316e+10</td>\n",
       "      <td>1.678320e+09</td>\n",
       "    </tr>\n",
       "    <tr>\n",
       "      <th>2510</th>\n",
       "      <td>2023-03-10</td>\n",
       "      <td>172.53</td>\n",
       "      <td>50256970</td>\n",
       "      <td>8.636905e+09</td>\n",
       "      <td>1.678406e+09</td>\n",
       "    </tr>\n",
       "    <tr>\n",
       "      <th>2511</th>\n",
       "      <td>2023-03-13</td>\n",
       "      <td>172.15</td>\n",
       "      <td>74032280</td>\n",
       "      <td>1.270953e+10</td>\n",
       "      <td>1.678666e+09</td>\n",
       "    </tr>\n",
       "    <tr>\n",
       "      <th>2512</th>\n",
       "      <td>2023-03-14</td>\n",
       "      <td>175.71</td>\n",
       "      <td>89325670</td>\n",
       "      <td>1.560132e+10</td>\n",
       "      <td>1.678752e+09</td>\n",
       "    </tr>\n",
       "  </tbody>\n",
       "</table>\n",
       "</div>"
      ],
      "text/plain": [
       "       TRADEDATE   CLOSE    VOLUME         VALUE     unix_time\n",
       "2508  2023-03-07  174.01  55287380  9.555925e+09  1.678147e+09\n",
       "2509  2023-03-09  172.55  80393110  1.394316e+10  1.678320e+09\n",
       "2510  2023-03-10  172.53  50256970  8.636905e+09  1.678406e+09\n",
       "2511  2023-03-13  172.15  74032280  1.270953e+10  1.678666e+09\n",
       "2512  2023-03-14  175.71  89325670  1.560132e+10  1.678752e+09"
      ]
     },
     "execution_count": 37,
     "metadata": {},
     "output_type": "execute_result"
    }
   ],
   "source": [
    "df = get_historical('SBER')\n",
    "df.tail()"
   ]
  },
  {
   "cell_type": "code",
   "execution_count": 39,
   "id": "77f67b08",
   "metadata": {},
   "outputs": [],
   "source": [
    "conn = connect(cfg)"
   ]
  },
  {
   "cell_type": "code",
   "execution_count": 40,
   "id": "04bab97d",
   "metadata": {},
   "outputs": [],
   "source": [
    "tickers = cfg.get(\"tickers\")"
   ]
  },
  {
   "cell_type": "code",
   "execution_count": 41,
   "id": "1c65f60c",
   "metadata": {},
   "outputs": [],
   "source": [
    "cur = conn.cursor()\n",
    "for t in tickers:\n",
    "    cur.execute(f'create table {t}(TRADEDATE text, CLOSE float, VOLUME bigint, VALUE float, unix_time float)')\n",
    "cur.execute(\"commit\")\n",
    "cur.close()\n",
    "conn.close()"
   ]
  },
  {
   "cell_type": "code",
   "execution_count": 42,
   "id": "c12bbf25",
   "metadata": {
    "scrolled": false
   },
   "outputs": [],
   "source": [
    "conn = connect(cfg)\n",
    "for t in tickers:\n",
    "    df = get_historical(t)\n",
    "    for _, row in df.iterrows():\n",
    "        insert(conn, t, \"TRADEDATE, CLOSE, VOLUME, VALUE, unix_time\", f'{row[0]},{row[1]}, {row[2]}, {row[3]}, {row[4]}')"
   ]
  },
  {
   "cell_type": "code",
   "execution_count": 43,
   "id": "9644b0bb",
   "metadata": {},
   "outputs": [],
   "source": [
    "conn.close()"
   ]
  },
  {
   "cell_type": "code",
   "execution_count": 45,
   "id": "c7ee66b0",
   "metadata": {},
   "outputs": [
    {
     "data": {
      "text/plain": [
       "[('1985', 98.79, 593680, 59340002.8, 1364169600.0),\n",
       " ('1984', 97.2, 1283550, 126030358.8, 1364256000.0),\n",
       " ('1983', 96.75, 1261950, 121835900.2, 1364342400.0),\n",
       " ('1982', 98.59, 1971410, 192469794.9, 1364428800.0),\n",
       " ('1981', 98.76, 782000, 77268860.1, 1364515200.0),\n",
       " ('2008', 98.07, 2279650, 224932551.3, 1364774400.0),\n",
       " ('2007', 98.93, 3555020, 350934591.7, 1364860800.0),\n",
       " ('2006', 99.59, 3757240, 372483219.4, 1364947200.0),\n",
       " ('2005', 99.91, 5172930, 516688826.9, 1365033600.0),\n",
       " ('2004', 99.38, 5229210, 518651795.1, 1365120000.0)]"
      ]
     },
     "execution_count": 45,
     "metadata": {},
     "output_type": "execute_result"
    }
   ],
   "source": [
    "conn = connect(cfg)\n",
    "query(conn, \"select * from SBER limit 10\")"
   ]
  },
  {
   "cell_type": "code",
   "execution_count": 51,
   "id": "aa1209bd",
   "metadata": {},
   "outputs": [
    {
     "data": {
      "text/plain": [
       "0       2013-03-25\n",
       "1       2013-03-26\n",
       "2       2013-03-27\n",
       "3       2013-03-28\n",
       "4       2013-03-29\n",
       "           ...    \n",
       "2508    2023-03-07\n",
       "2509    2023-03-09\n",
       "2510    2023-03-10\n",
       "2511    2023-03-13\n",
       "2512    2023-03-14\n",
       "Name: TRADEDATE, Length: 2495, dtype: object"
      ]
     },
     "execution_count": 51,
     "metadata": {},
     "output_type": "execute_result"
    }
   ],
   "source": [
    "t = get_historical('SBER')\n",
    "t[\"TRADEDATE\"]"
   ]
  }
 ],
 "metadata": {
  "kernelspec": {
   "display_name": "Python 3 (ipykernel)",
   "language": "python",
   "name": "python3"
  },
  "language_info": {
   "codemirror_mode": {
    "name": "ipython",
    "version": 3
   },
   "file_extension": ".py",
   "mimetype": "text/x-python",
   "name": "python",
   "nbconvert_exporter": "python",
   "pygments_lexer": "ipython3",
   "version": "3.9.13"
  }
 },
 "nbformat": 4,
 "nbformat_minor": 5
}
