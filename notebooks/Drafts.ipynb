{
 "cells": [
  {
   "cell_type": "code",
   "execution_count": 1,
   "id": "f08cef24",
   "metadata": {},
   "outputs": [],
   "source": [
    "from moex.moex import *\n",
    "from postgres.storage import *\n",
    "from config.reader import *\n",
    "import matplotlib.pyplot as plt\n",
    "%matplotlib inline"
   ]
  },
  {
   "cell_type": "code",
   "execution_count": 2,
   "id": "1e88e842",
   "metadata": {},
   "outputs": [],
   "source": [
    "cfg = read_config('config.json')\n",
    "conn = connect(cfg)\n",
    "tickers = cfg.get('tickers')"
   ]
  },
  {
   "cell_type": "code",
   "execution_count": 10,
   "id": "3e1beabd",
   "metadata": {},
   "outputs": [
    {
     "name": "stderr",
     "output_type": "stream",
     "text": [
      "/home/blasdel/Untitled Folder/moex/moex.py:32: FutureWarning: Dropping of nuisance columns in DataFrame reductions (with 'numeric_only=None') is deprecated; in a future version this will raise TypeError.  Select only valid columns before calling the reduction.\n",
      "  out = out.fillna(out.mean())\n"
     ]
    }
   ],
   "source": [
    "out = load_historical(conn, tickers, \"2023-01-01\", \"2023-12-31\")"
   ]
  }
 ],
 "metadata": {
  "kernelspec": {
   "display_name": "Python 3 (ipykernel)",
   "language": "python",
   "name": "python3"
  },
  "language_info": {
   "codemirror_mode": {
    "name": "ipython",
    "version": 3
   },
   "file_extension": ".py",
   "mimetype": "text/x-python",
   "name": "python",
   "nbconvert_exporter": "python",
   "pygments_lexer": "ipython3",
   "version": "3.9.13"
  }
 },
 "nbformat": 4,
 "nbformat_minor": 5
}
